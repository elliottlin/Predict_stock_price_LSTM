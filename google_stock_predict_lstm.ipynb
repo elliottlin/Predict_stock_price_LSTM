{
 "cells": [
  {
   "cell_type": "code",
   "execution_count": 1,
   "metadata": {},
   "outputs": [
    {
     "name": "stderr",
     "output_type": "stream",
     "text": [
      "Using TensorFlow backend.\n"
     ]
    }
   ],
   "source": [
    "import numpy as np\n",
    "import matplotlib.pyplot as plt\n",
    "import math, time, itertools, datetime\n",
    "import pandas as pd\n",
    "\n",
    "from operator import itemgetter\n",
    "from sklearn.metrics import mean_squared_error\n",
    "from math import sqrt\n",
    "\n",
    "from keras.models import Sequential\n",
    "from keras.layers.core import Dense, Dropout, Activation\n",
    "from keras.layers.recurrent import LSTM"
   ]
  },
  {
   "cell_type": "markdown",
   "metadata": {},
   "source": [
    "### Get, Drop, and Normalize Data"
   ]
  },
  {
   "cell_type": "code",
   "execution_count": 2,
   "metadata": {},
   "outputs": [],
   "source": [
    "def get_stock_data(stock_name, normalized=0):\n",
    "    def get_ma_day(df, index, days):\n",
    "        #return np.round(df[index].rolling(window = days, center = False).mean(), 2)\n",
    "        # df need to be a DataFrame\n",
    "        if not isinstance(df, pd.DataFrame):\n",
    "            return None\n",
    "        col = df[index]\n",
    "        l = len(col)\n",
    "        return [ col[i-days+1:i+1].mean() for i in range(l)] # first days-1 will be None because of the indexing handling\n",
    "\n",
    "    def get_price_change(df):\n",
    "        close_price = df['Close']\n",
    "        return  np.log(close_price) - np.log(close_price.shift(1))\n",
    "    \n",
    "    url=\"http://www.google.com/finance/historical?q=\"+stock_name+\"&startdate=Jul+12%2C+2013&enddate=Aug+11%2C+2017&num=30&ei=rCtlWZGSFN3KsQHwrqWQCw&output=csv\"\n",
    "\n",
    "    # Get\n",
    "    col_names = ['Date','Open','High','Low','Close','Volume']\n",
    "    stocks = pd.read_csv(url, header=0, names=col_names) \n",
    "    # reverse cuz it was backward\n",
    "    stocks = stocks[::-1]\n",
    "    \n",
    "    stocks['MA5'] = get_ma_day(stocks,'Close',5)\n",
    "    stocks['MA10']= get_ma_day(stocks,'Close',10)\n",
    "    stocks['MA20']= get_ma_day(stocks,'Close',20)\n",
    "\n",
    "    stocks['VMA5'] = get_ma_day(stocks,'Volume',5)\n",
    "    stocks['VMA10'] = get_ma_day(stocks,'Volume',10)\n",
    "    stocks['VMA20'] = get_ma_day(stocks,'Volume',20)\n",
    "\n",
    "    stocks['price_change'] = get_price_change(stocks)\n",
    "    #print(stocks.head(10))\n",
    "    \n",
    "    # Drop\n",
    "    stocks = stocks.drop(['Date','Low'], axis=1)\n",
    "    \n",
    "    # Normalize\n",
    "    df = pd.DataFrame(stocks)\n",
    "    if normalized:\n",
    "        df = df/df.mean() -1\n",
    "    \n",
    "    # drop first 19 NaN rows caused by MA/VMA\n",
    "    return df[20:]\n",
    "\n",
    "    # Normalize\n",
    "    '''\n",
    "    # not useful because the unbalanced range of each dimension.\n",
    "    # lots of information would be masked\n",
    "    \n",
    "    from sklearn.preprocessing import StandardScaler,Normalizer\n",
    "    X = StandardScaler().fit_transform(stocks)\n",
    "    df=pd.DataFrame(X)\n",
    "    print(\"x mean : \", X.mean(axis = 0))\n",
    "    print(\"x.std : \", X.std(axis = 0))\n",
    "    \n",
    "    return df\n",
    "    '''"
   ]
  },
  {
   "cell_type": "markdown",
   "metadata": {},
   "source": [
    "### Get stoack data from Google finance"
   ]
  },
  {
   "cell_type": "code",
   "execution_count": 3,
   "metadata": {},
   "outputs": [
    {
     "data": {
      "text/html": [
       "<div>\n",
       "<table border=\"1\" class=\"dataframe\">\n",
       "  <thead>\n",
       "    <tr style=\"text-align: right;\">\n",
       "      <th></th>\n",
       "      <th>Open</th>\n",
       "      <th>High</th>\n",
       "      <th>Close</th>\n",
       "      <th>Volume</th>\n",
       "      <th>MA5</th>\n",
       "      <th>MA10</th>\n",
       "      <th>MA20</th>\n",
       "      <th>VMA5</th>\n",
       "      <th>VMA10</th>\n",
       "      <th>VMA20</th>\n",
       "      <th>price_change</th>\n",
       "    </tr>\n",
       "  </thead>\n",
       "  <tbody>\n",
       "    <tr>\n",
       "      <th>1009</th>\n",
       "      <td>-0.332859</td>\n",
       "      <td>-0.334047</td>\n",
       "      <td>-0.332715</td>\n",
       "      <td>-0.335096</td>\n",
       "      <td>-0.329120</td>\n",
       "      <td>-0.329231</td>\n",
       "      <td>-0.324618</td>\n",
       "      <td>-0.295891</td>\n",
       "      <td>-0.160952</td>\n",
       "      <td>0.132162</td>\n",
       "      <td>-4.723695</td>\n",
       "    </tr>\n",
       "    <tr>\n",
       "      <th>1008</th>\n",
       "      <td>-0.335613</td>\n",
       "      <td>-0.340392</td>\n",
       "      <td>-0.336383</td>\n",
       "      <td>-0.308177</td>\n",
       "      <td>-0.332040</td>\n",
       "      <td>-0.328988</td>\n",
       "      <td>-0.326088</td>\n",
       "      <td>-0.289116</td>\n",
       "      <td>-0.186882</td>\n",
       "      <td>0.117453</td>\n",
       "      <td>-9.106031</td>\n",
       "    </tr>\n",
       "    <tr>\n",
       "      <th>1007</th>\n",
       "      <td>-0.335658</td>\n",
       "      <td>-0.339278</td>\n",
       "      <td>-0.339573</td>\n",
       "      <td>-0.286524</td>\n",
       "      <td>-0.334334</td>\n",
       "      <td>-0.329713</td>\n",
       "      <td>-0.327526</td>\n",
       "      <td>-0.297758</td>\n",
       "      <td>-0.203759</td>\n",
       "      <td>0.103271</td>\n",
       "      <td>-8.083780</td>\n",
       "    </tr>\n",
       "    <tr>\n",
       "      <th>1006</th>\n",
       "      <td>-0.342004</td>\n",
       "      <td>-0.345414</td>\n",
       "      <td>-0.348152</td>\n",
       "      <td>0.046373</td>\n",
       "      <td>-0.337458</td>\n",
       "      <td>-0.331058</td>\n",
       "      <td>-0.329353</td>\n",
       "      <td>-0.227147</td>\n",
       "      <td>-0.208295</td>\n",
       "      <td>0.117805</td>\n",
       "      <td>-20.227509</td>\n",
       "    </tr>\n",
       "    <tr>\n",
       "      <th>1005</th>\n",
       "      <td>-0.352436</td>\n",
       "      <td>-0.356810</td>\n",
       "      <td>-0.355759</td>\n",
       "      <td>-0.060321</td>\n",
       "      <td>-0.342406</td>\n",
       "      <td>-0.334398</td>\n",
       "      <td>-0.331267</td>\n",
       "      <td>-0.188693</td>\n",
       "      <td>-0.221745</td>\n",
       "      <td>0.073386</td>\n",
       "      <td>-18.259213</td>\n",
       "    </tr>\n",
       "  </tbody>\n",
       "</table>\n",
       "</div>"
      ],
      "text/plain": [
       "          Open      High     Close    Volume       MA5      MA10      MA20  \\\n",
       "1009 -0.332859 -0.334047 -0.332715 -0.335096 -0.329120 -0.329231 -0.324618   \n",
       "1008 -0.335613 -0.340392 -0.336383 -0.308177 -0.332040 -0.328988 -0.326088   \n",
       "1007 -0.335658 -0.339278 -0.339573 -0.286524 -0.334334 -0.329713 -0.327526   \n",
       "1006 -0.342004 -0.345414 -0.348152  0.046373 -0.337458 -0.331058 -0.329353   \n",
       "1005 -0.352436 -0.356810 -0.355759 -0.060321 -0.342406 -0.334398 -0.331267   \n",
       "\n",
       "          VMA5     VMA10     VMA20  price_change  \n",
       "1009 -0.295891 -0.160952  0.132162     -4.723695  \n",
       "1008 -0.289116 -0.186882  0.117453     -9.106031  \n",
       "1007 -0.297758 -0.203759  0.103271     -8.083780  \n",
       "1006 -0.227147 -0.208295  0.117805    -20.227509  \n",
       "1005 -0.188693 -0.221745  0.073386    -18.259213  "
      ]
     },
     "execution_count": 3,
     "metadata": {},
     "output_type": "execute_result"
    }
   ],
   "source": [
    "stock_name = 'GOOGL'\n",
    "df = get_stock_data(stock_name,normalized=1)\n",
    "df.head()"
   ]
  },
  {
   "cell_type": "code",
   "execution_count": 4,
   "metadata": {},
   "outputs": [
    {
     "data": {
      "text/plain": [
       "datetime.date(2017, 8, 26)"
      ]
     },
     "execution_count": 4,
     "metadata": {},
     "output_type": "execute_result"
    }
   ],
   "source": [
    "today = datetime.date.today()\n",
    "file_name = stock_name+'_stock_%s.csv' % today\n",
    "df.to_csv(file_name)\n",
    "today"
   ]
  },
  {
   "cell_type": "markdown",
   "metadata": {},
   "source": [
    "### Make the input into a window-sized volume of data"
   ]
  },
  {
   "cell_type": "code",
   "execution_count": 5,
   "metadata": {
    "collapsed": true
   },
   "outputs": [],
   "source": [
    "def load_data(stock, seq_len, ratio=0.9):\n",
    "    amount_of_features = len(stock.columns)\n",
    "    data = stock.as_matrix() \n",
    "    sequence_length = seq_len + 1\n",
    "    result = []\n",
    "    for index in range(len(data) - sequence_length):\n",
    "        result.append(data[index: index + sequence_length])\n",
    "\n",
    "    result = np.array(result)    # (len(), seq, cols) contains newest date\n",
    "    \n",
    "    row = round(0.9 * result.shape[0])\n",
    "    train = result[:int(row), :]\n",
    "    #np.random.shuffle(train)\n",
    "    \n",
    "    x_train = train[:, :-1]      # (len(), 10, 4) drop last row(), because last row contain the label\n",
    "    y_train = train[:, -1][:,2] # with last row, and only keep \"close\" column @ [Open, High,\"Close\", Volume,...]\n",
    "    x_test = result[int(row):, :-1]\n",
    "    y_test = result[int(row):, -1][:,2]\n",
    "\n",
    "    x_train = np.reshape(x_train, (x_train.shape[0], x_train.shape[1], amount_of_features))\n",
    "    x_test = np.reshape(x_test, (x_test.shape[0], x_test.shape[1], amount_of_features))  \n",
    "    \n",
    "    return [x_train, y_train, x_test, y_test]\n",
    "\n",
    "    '''\n",
    "    In general, use following to split train/test sets\n",
    "    \n",
    "    from sklearn.model_selection import train_test_split\n",
    "    X_train, X_test, y_train, y_test = train_test_split(df, df_labels, test_size=0.2, random_state=0)\n",
    "    \n",
    "    '''"
   ]
  },
  {
   "cell_type": "markdown",
   "metadata": {},
   "source": [
    "### Set X and Y for training and testing"
   ]
  },
  {
   "cell_type": "code",
   "execution_count": 6,
   "metadata": {},
   "outputs": [
    {
     "name": "stdout",
     "output_type": "stream",
     "text": [
      "X_train : (886, 25, 11)\n",
      "y_train : (886,)\n",
      "X_test  : (98, 25, 11)\n",
      "y_test  : (98,)\n"
     ]
    }
   ],
   "source": [
    "sequence_len = 25\n",
    "X_train, y_train, X_test, y_test = load_data(df, sequence_len)\n",
    "print(\"X_train :\", X_train.shape)\n",
    "print(\"y_train :\", y_train.shape)\n",
    "print(\"X_test  :\", X_test.shape)\n",
    "print(\"y_test  :\", y_test.shape)"
   ]
  },
  {
   "cell_type": "markdown",
   "metadata": {},
   "source": [
    "### Build Model Function"
   ]
  },
  {
   "cell_type": "code",
   "execution_count": 7,
   "metadata": {
    "collapsed": true
   },
   "outputs": [],
   "source": [
    "def build_model(layers):\n",
    "    d = 0.2\n",
    "    model = Sequential()\n",
    "    \n",
    "    # now model.output_shape == (None, 128)\n",
    "    model.add(LSTM(128, input_shape=(layers[1], layers[0]), return_sequences=True))\n",
    "    model.add(Dropout(d))\n",
    "    \n",
    "    # for subsequent layers, no need to specify the input size:\n",
    "    model.add(LSTM(64, return_sequences=False))\n",
    "    model.add(Dropout(d))\n",
    "    \n",
    "    # fully connected layer\n",
    "    model.add(Dense(16,kernel_initializer='uniform',activation='relu'))        \n",
    "    model.add(Dense(1,kernel_initializer='uniform',activation='linear'))\n",
    "    model.compile(loss='mse',optimizer='adam',metrics=['accuracy'])\n",
    "    return model"
   ]
  },
  {
   "cell_type": "markdown",
   "metadata": {},
   "source": [
    "### Load the model sequence structure"
   ]
  },
  {
   "cell_type": "code",
   "execution_count": 8,
   "metadata": {},
   "outputs": [],
   "source": [
    "model = build_model([X_train.shape[-1],sequence_len]) # [feature_len, seq len]"
   ]
  },
  {
   "cell_type": "markdown",
   "metadata": {},
   "source": [
    "### Execute the model & RMS/RMSE results\n"
   ]
  },
  {
   "cell_type": "code",
   "execution_count": 9,
   "metadata": {},
   "outputs": [
    {
     "name": "stderr",
     "output_type": "stream",
     "text": [
      "/Library/Frameworks/Python.framework/Versions/3.5/lib/python3.5/site-packages/keras/models.py:844: UserWarning: The `nb_epoch` argument in `fit` has been renamed `epochs`.\n",
      "  warnings.warn('The `nb_epoch` argument in `fit` '\n"
     ]
    }
   ],
   "source": [
    "history = model.fit(\n",
    "    X_train,\n",
    "    y_train,\n",
    "    batch_size=512,\n",
    "    nb_epoch=500,\n",
    "    validation_split=0.1,\n",
    "    verbose=0)"
   ]
  },
  {
   "cell_type": "code",
   "execution_count": 10,
   "metadata": {},
   "outputs": [
    {
     "name": "stdout",
     "output_type": "stream",
     "text": [
      "_________________________________________________________________\n",
      "Layer (type)                 Output Shape              Param #   \n",
      "=================================================================\n",
      "lstm_1 (LSTM)                (None, 25, 128)           71680     \n",
      "_________________________________________________________________\n",
      "dropout_1 (Dropout)          (None, 25, 128)           0         \n",
      "_________________________________________________________________\n",
      "lstm_2 (LSTM)                (None, 64)                49408     \n",
      "_________________________________________________________________\n",
      "dropout_2 (Dropout)          (None, 64)                0         \n",
      "_________________________________________________________________\n",
      "dense_1 (Dense)              (None, 16)                1040      \n",
      "_________________________________________________________________\n",
      "dense_2 (Dense)              (None, 1)                 17        \n",
      "=================================================================\n",
      "Total params: 122,145\n",
      "Trainable params: 122,145\n",
      "Non-trainable params: 0\n",
      "_________________________________________________________________\n"
     ]
    }
   ],
   "source": [
    "model.summary()  "
   ]
  },
  {
   "cell_type": "markdown",
   "metadata": {},
   "source": [
    "### Calculate scores"
   ]
  },
  {
   "cell_type": "code",
   "execution_count": 11,
   "metadata": {},
   "outputs": [
    {
     "name": "stdout",
     "output_type": "stream",
     "text": [
      "Train Score: 0.00 MSE (0.02 RMSE)\n",
      "Test Score: 0.03 MSE (0.17 RMSE)\n"
     ]
    }
   ],
   "source": [
    "trainScore = model.evaluate(X_train, y_train, verbose=0)\n",
    "print('Train Score: %.2f MSE (%.2f RMSE)' % (trainScore[0], math.sqrt(trainScore[0])))\n",
    "\n",
    "testScore = model.evaluate(X_test, y_test, verbose=0)\n",
    "print('Test Score: %.2f MSE (%.2f RMSE)' % (testScore[0], math.sqrt(testScore[0])))\n"
   ]
  },
  {
   "cell_type": "code",
   "execution_count": 12,
   "metadata": {
    "collapsed": true
   },
   "outputs": [],
   "source": [
    "diff=[]\n",
    "ratio=[]\n",
    "p = model.predict(X_test)\n",
    "for u in range(len(y_test)):\n",
    "    pr = p[u][0]\n",
    "    ratio.append((y_test[u]/pr)-1)\n",
    "    diff.append(abs(y_test[u]- pr))"
   ]
  },
  {
   "cell_type": "markdown",
   "metadata": {},
   "source": [
    "### Plot using matplotlib"
   ]
  },
  {
   "cell_type": "code",
   "execution_count": 14,
   "metadata": {},
   "outputs": [
    {
     "data": {
      "image/png": "[encoded data removed]",
      "text/plain": [
       "<matplotlib.figure.Figure at 0x11acec4a8>"
      ]
     },
     "metadata": {},
     "output_type": "display_data"
    }
   ],
   "source": [
    "plt.plot(p,color='red', label='prediction')\n",
    "#plt.plot(ratio, color='black', label='ratio')\n",
    "#plt.plot(diff, color='purple', label='diff')\n",
    "plt.plot(y_test,color='blue', label='y_test')\n",
    "plt.legend(loc='best')\n",
    "plt.show()"
   ]
  },
  {
   "cell_type": "code",
   "execution_count": null,
   "metadata": {
    "collapsed": true
   },
   "outputs": [],
   "source": []
  }
 ],
 "metadata": {
  "kernelspec": {
   "display_name": "Python 3",
   "language": "python",
   "name": "python3"
  },
  "language_info": {
   "codemirror_mode": {
    "name": "ipython",
    "version": 3
   },
   "file_extension": ".py",
   "mimetype": "text/x-python",
   "name": "python",
   "nbconvert_exporter": "python",
   "pygments_lexer": "ipython3",
   "version": "3.5.2"
  }
 },
 "nbformat": 4,
 "nbformat_minor": 2
}
